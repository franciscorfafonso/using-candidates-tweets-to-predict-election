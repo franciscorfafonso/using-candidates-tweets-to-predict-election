{
 "cells": [
  {
   "cell_type": "code",
   "execution_count": 1,
   "metadata": {
    "collapsed": true
   },
   "outputs": [],
   "source": [
    "# Loading packages\n",
    "\n",
    "import pandas as pd\n",
    "import numpy as np\n",
    "import statsmodels.api as sm"
   ]
  },
  {
   "cell_type": "code",
   "execution_count": 2,
   "outputs": [
    {
     "name": "stdout",
     "output_type": "stream",
     "text": [
      "<class 'pandas.core.frame.DataFrame'>\n",
      "RangeIndex: 57790 entries, 0 to 57789\n",
      "Data columns (total 29 columns):\n",
      " #   Column                        Non-Null Count  Dtype  \n",
      "---  ------                        --------------  -----  \n",
      " 0   tweet_id                      57790 non-null  object \n",
      " 1   text                          57790 non-null  object \n",
      " 2   created_at                    57790 non-null  object \n",
      " 3   campaign_week                 57790 non-null  int64  \n",
      " 4   process_text_check            57790 non-null  object \n",
      " 5   name                          57790 non-null  object \n",
      " 6   handle                        57790 non-null  object \n",
      " 7   party                         57790 non-null  object \n",
      " 8   state_code                    57790 non-null  object \n",
      " 9   state_name                    57790 non-null  object \n",
      " 10  result_pctg                   57790 non-null  float64\n",
      " 11  result_votes                  57790 non-null  int64  \n",
      " 12  position                      57790 non-null  int64  \n",
      " 13  total_votes_casted            57790 non-null  int64  \n",
      " 14  winner_margin_for_runners_up  57790 non-null  float64\n",
      " 15  check_city_filtered           20226 non-null  object \n",
      " 16  PreProcessedText_WithoutCity  57790 non-null  object \n",
      " 17  Words                         57790 non-null  object \n",
      " 18  WordsCleaned                  57790 non-null  object \n",
      " 19  WordsLemmatized               57790 non-null  object \n",
      " 20  Campaign Event                57790 non-null  float64\n",
      " 21  Social Protection             57790 non-null  float64\n",
      " 22  General Discussion            57790 non-null  float64\n",
      " 23  Abortion                      57790 non-null  float64\n",
      " 24  Homeland Security             57790 non-null  float64\n",
      " 25  Candidate Denigration         57790 non-null  float64\n",
      " 26  Vote Instigation              57790 non-null  float64\n",
      " 27  Campaign Contribution         57790 non-null  float64\n",
      " 28  Economy Policies              57790 non-null  float64\n",
      "dtypes: float64(11), int64(4), object(14)\n",
      "memory usage: 12.8+ MB\n"
     ]
    }
   ],
   "source": [
    "# Load the DataFrame from the pickle file\n",
    "df = pd.read_pickle('documents_topics.pkl')\n",
    "df.info()"
   ],
   "metadata": {
    "collapsed": false
   }
  },
  {
   "cell_type": "markdown",
   "source": [
    "## Test for H1a and H1b"
   ],
   "metadata": {
    "collapsed": false
   }
  },
  {
   "cell_type": "code",
   "execution_count": 3,
   "outputs": [],
   "source": [
    "df_h1a_h1b = df\n",
    "\n",
    "def is_empty_or_nan(x):\n",
    "    if x != x or not x:\n",
    "        return True\n",
    "    return False\n",
    "\n",
    "# Create 'local' and 'national' columns\n",
    "df_h1a_h1b['local'] = df_h1a_h1b['check_city_filtered'].apply(lambda x: 1 if not is_empty_or_nan(x) else 0)\n",
    "df_h1a_h1b['national'] = df_h1a_h1b['check_city_filtered'].apply(lambda x: 1 if is_empty_or_nan(x) else 0)"
   ],
   "metadata": {
    "collapsed": false
   }
  },
  {
   "cell_type": "code",
   "execution_count": 4,
   "outputs": [
    {
     "name": "stdout",
     "output_type": "stream",
     "text": [
      "<class 'pandas.core.frame.DataFrame'>\n",
      "RangeIndex: 57790 entries, 0 to 57789\n",
      "Data columns (total 31 columns):\n",
      " #   Column                        Non-Null Count  Dtype  \n",
      "---  ------                        --------------  -----  \n",
      " 0   tweet_id                      57790 non-null  object \n",
      " 1   text                          57790 non-null  object \n",
      " 2   created_at                    57790 non-null  object \n",
      " 3   campaign_week                 57790 non-null  int64  \n",
      " 4   process_text_check            57790 non-null  object \n",
      " 5   name                          57790 non-null  object \n",
      " 6   handle                        57790 non-null  object \n",
      " 7   party                         57790 non-null  object \n",
      " 8   state_code                    57790 non-null  object \n",
      " 9   state_name                    57790 non-null  object \n",
      " 10  result_pctg                   57790 non-null  float64\n",
      " 11  result_votes                  57790 non-null  int64  \n",
      " 12  position                      57790 non-null  int64  \n",
      " 13  total_votes_casted            57790 non-null  int64  \n",
      " 14  winner_margin_for_runners_up  57790 non-null  float64\n",
      " 15  check_city_filtered           20226 non-null  object \n",
      " 16  PreProcessedText_WithoutCity  57790 non-null  object \n",
      " 17  Words                         57790 non-null  object \n",
      " 18  WordsCleaned                  57790 non-null  object \n",
      " 19  WordsLemmatized               57790 non-null  object \n",
      " 20  Campaign Event                57790 non-null  float64\n",
      " 21  Social Protection             57790 non-null  float64\n",
      " 22  General Discussion            57790 non-null  float64\n",
      " 23  Abortion                      57790 non-null  float64\n",
      " 24  Homeland Security             57790 non-null  float64\n",
      " 25  Candidate Denigration         57790 non-null  float64\n",
      " 26  Vote Instigation              57790 non-null  float64\n",
      " 27  Campaign Contribution         57790 non-null  float64\n",
      " 28  Economy Policies              57790 non-null  float64\n",
      " 29  local                         57790 non-null  int64  \n",
      " 30  national                      57790 non-null  int64  \n",
      "dtypes: float64(11), int64(6), object(14)\n",
      "memory usage: 13.7+ MB\n"
     ]
    }
   ],
   "source": [
    "df_h1a_h1b.info()"
   ],
   "metadata": {
    "collapsed": false
   }
  },
  {
   "cell_type": "code",
   "execution_count": 5,
   "outputs": [
    {
     "data": {
      "text/plain": "         name  result_pctg  position  winner_margin_for_runners_up  local  \\\n0  Don Bolduc     0.444346         2                      0.090608      1   \n1  Don Bolduc     0.444346         2                      0.090608      1   \n2  Don Bolduc     0.444346         2                      0.090608      1   \n3  Don Bolduc     0.444346         2                      0.090608      0   \n4  Don Bolduc     0.444346         2                      0.090608      0   \n5  Don Bolduc     0.444346         2                      0.090608      0   \n6  Don Bolduc     0.444346         2                      0.090608      1   \n7  Don Bolduc     0.444346         2                      0.090608      0   \n8  Don Bolduc     0.444346         2                      0.090608      1   \n9  Don Bolduc     0.444346         2                      0.090608      1   \n\n   national  \n0         0  \n1         0  \n2         0  \n3         1  \n4         1  \n5         1  \n6         0  \n7         1  \n8         0  \n9         0  ",
      "text/html": "<div>\n<style scoped>\n    .dataframe tbody tr th:only-of-type {\n        vertical-align: middle;\n    }\n\n    .dataframe tbody tr th {\n        vertical-align: top;\n    }\n\n    .dataframe thead th {\n        text-align: right;\n    }\n</style>\n<table border=\"1\" class=\"dataframe\">\n  <thead>\n    <tr style=\"text-align: right;\">\n      <th></th>\n      <th>name</th>\n      <th>result_pctg</th>\n      <th>position</th>\n      <th>winner_margin_for_runners_up</th>\n      <th>local</th>\n      <th>national</th>\n    </tr>\n  </thead>\n  <tbody>\n    <tr>\n      <th>0</th>\n      <td>Don Bolduc</td>\n      <td>0.444346</td>\n      <td>2</td>\n      <td>0.090608</td>\n      <td>1</td>\n      <td>0</td>\n    </tr>\n    <tr>\n      <th>1</th>\n      <td>Don Bolduc</td>\n      <td>0.444346</td>\n      <td>2</td>\n      <td>0.090608</td>\n      <td>1</td>\n      <td>0</td>\n    </tr>\n    <tr>\n      <th>2</th>\n      <td>Don Bolduc</td>\n      <td>0.444346</td>\n      <td>2</td>\n      <td>0.090608</td>\n      <td>1</td>\n      <td>0</td>\n    </tr>\n    <tr>\n      <th>3</th>\n      <td>Don Bolduc</td>\n      <td>0.444346</td>\n      <td>2</td>\n      <td>0.090608</td>\n      <td>0</td>\n      <td>1</td>\n    </tr>\n    <tr>\n      <th>4</th>\n      <td>Don Bolduc</td>\n      <td>0.444346</td>\n      <td>2</td>\n      <td>0.090608</td>\n      <td>0</td>\n      <td>1</td>\n    </tr>\n    <tr>\n      <th>5</th>\n      <td>Don Bolduc</td>\n      <td>0.444346</td>\n      <td>2</td>\n      <td>0.090608</td>\n      <td>0</td>\n      <td>1</td>\n    </tr>\n    <tr>\n      <th>6</th>\n      <td>Don Bolduc</td>\n      <td>0.444346</td>\n      <td>2</td>\n      <td>0.090608</td>\n      <td>1</td>\n      <td>0</td>\n    </tr>\n    <tr>\n      <th>7</th>\n      <td>Don Bolduc</td>\n      <td>0.444346</td>\n      <td>2</td>\n      <td>0.090608</td>\n      <td>0</td>\n      <td>1</td>\n    </tr>\n    <tr>\n      <th>8</th>\n      <td>Don Bolduc</td>\n      <td>0.444346</td>\n      <td>2</td>\n      <td>0.090608</td>\n      <td>1</td>\n      <td>0</td>\n    </tr>\n    <tr>\n      <th>9</th>\n      <td>Don Bolduc</td>\n      <td>0.444346</td>\n      <td>2</td>\n      <td>0.090608</td>\n      <td>1</td>\n      <td>0</td>\n    </tr>\n  </tbody>\n</table>\n</div>"
     },
     "execution_count": 5,
     "metadata": {},
     "output_type": "execute_result"
    }
   ],
   "source": [
    "#remove unnecessary columns for a linear regression and statistical tests\n",
    "df_h1a_h1b = df_h1a_h1b.drop(columns=['tweet_id','text','created_at','campaign_week','process_text_check','handle','party','state_code','state_name','total_votes_casted','check_city_filtered','PreProcessedText_WithoutCity','Words','WordsCleaned','WordsLemmatized','Campaign Event','Social Protection','General Discussion','Abortion','Homeland Security','Candidate Denigration','Vote Instigation','Campaign Contribution','Economy Policies','result_votes'], axis=1)\n",
    "df_h1a_h1b.head(10)"
   ],
   "metadata": {
    "collapsed": false
   }
  },
  {
   "cell_type": "code",
   "execution_count": 6,
   "outputs": [
    {
     "data": {
      "text/plain": "                      name  local  national  result_pctg  \\\n0              Adam Laxalt    523       540     0.480372   \n1             Alex Padilla    201       571     0.591357   \n2             Bill Redpath      5         9     0.016754   \n3            Blake Masters     75       501     0.465074   \n4            Bob McDermott      1         4     0.227386   \n5              Brian Bengs    211       510     0.250897   \n6   Catherine Cortez Masto    448       683     0.488138   \n7           Charles Booker    522      1009     0.382045   \n8            Cheri Beasley    479       466     0.472731   \n9            Chris Chaffee    111       675     0.340749   \n10        Chris Van Hollen      3        19     0.657680   \n11          Chuck Grassley    308       402     0.564276   \n12           Chuck Schumer     40        88     0.563463   \n13              David Roth    260       970     0.287377   \n14              Don Bolduc    397       817     0.444346   \n15            Eric Schmitt    119       277     0.554323   \n16     Erik Chase Gerhardt     22       227     0.013653   \n17           Evan McMullin    340       754     0.413593   \n18          Gary Chambers     187       345     0.177223   \n19         Herschel Walker    109       126     0.485969   \n20              J.D. Vance     90       328     0.530349   \n21     James Arthur Hansen    478      1173     0.023275   \n22          James Lankford     15        62     0.643093   \n23           James Sceniak    174       824     0.034311   \n24         Jeremy Kauffman     95      1406     0.019952   \n25             Jerry Moran     18        35     0.600002   \n26          Jo Rae Perkins     17        67     0.417790   \n27               Joe O'Dea    363       615     0.412644   \n28              Joe Pinion     94       397     0.431351   \n29            John Boozman     49       198     0.658258   \n30          John Fetterman    510      1838     0.504823   \n31             John Hoeven      9        25     0.563525   \n32      John Neely Kennedy     73       113     0.619925   \n33              John Thune      7        15     0.709004   \n34             Kathy Salvi    311       279     0.415003   \n35             Katie Britt    291       319     0.667520   \n36    Katrina Christiansen    141       851     0.252410   \n37          Kelly Tshibaka    167       227     0.446851   \n38             Kendra Horn    253       265     0.352439   \n39         Kenneth Blevins     25       275     0.017803   \n40              Leora Levy    102       266     0.417453   \n41          Lisa Murkowski    405       173     0.518312   \n42              Luke Mixon    341       644     0.128166   \n43            Madison Horn    277       700     0.320953   \n44           Maggie Hassan    266       668     0.534954   \n45          Mandela Barnes    376      1100     0.494054   \n46             Marc Victor     23        58     0.020900   \n47             Marco Rubio    381      1000     0.576803   \n48              Mark Kelly    302       365     0.513949   \n49             Mark Meuser    136       673     0.408643   \n\n    winner_margin_for_runners_up position  \n0                       0.007766        2  \n1                       0.182714        1  \n2                       0.153232        3  \n3                       0.048874        2  \n4                       0.521716        2  \n5                       0.458107        2  \n6                       0.007766        1  \n7                       0.235819        2  \n8                       0.032257        2  \n9                       0.316932        2  \n10                      0.316932        1  \n11                      0.128551        1  \n12                      0.132112        1  \n13                      0.319401        2  \n14                      0.090608        2  \n15                      0.132554        1  \n16                      0.033876        3  \n17                      0.138346        2  \n18                      0.442702        2  \n19                      0.028061        2  \n20                      0.061119        1  \n21                      0.138346        3  \n22                      0.322140        1  \n23                      0.207461        3  \n24                      0.090608        3  \n25                      0.229624        1  \n26                      0.137097        2  \n27                      0.146179        2  \n28                      0.132112        2  \n29                      0.348388        1  \n30                      0.033876        1  \n31                      0.311115        1  \n32                      0.442702        1  \n33                      0.458107        1  \n34                      0.153232        2  \n35                      0.358326        1  \n36                      0.311115        2  \n37                      0.071460        2  \n38                      0.265173        2  \n39                      0.322140        4  \n40                      0.157094        2  \n41                      0.071460        1  \n42                      0.442702        3  \n43                      0.322140        2  \n44                      0.090608        1  \n45                      0.010073        2  \n46                      0.048874        3  \n47                      0.164130        1  \n48                      0.048874        1  \n49                      0.182714        2  ",
      "text/html": "<div>\n<style scoped>\n    .dataframe tbody tr th:only-of-type {\n        vertical-align: middle;\n    }\n\n    .dataframe tbody tr th {\n        vertical-align: top;\n    }\n\n    .dataframe thead th {\n        text-align: right;\n    }\n</style>\n<table border=\"1\" class=\"dataframe\">\n  <thead>\n    <tr style=\"text-align: right;\">\n      <th></th>\n      <th>name</th>\n      <th>local</th>\n      <th>national</th>\n      <th>result_pctg</th>\n      <th>winner_margin_for_runners_up</th>\n      <th>position</th>\n    </tr>\n  </thead>\n  <tbody>\n    <tr>\n      <th>0</th>\n      <td>Adam Laxalt</td>\n      <td>523</td>\n      <td>540</td>\n      <td>0.480372</td>\n      <td>0.007766</td>\n      <td>2</td>\n    </tr>\n    <tr>\n      <th>1</th>\n      <td>Alex Padilla</td>\n      <td>201</td>\n      <td>571</td>\n      <td>0.591357</td>\n      <td>0.182714</td>\n      <td>1</td>\n    </tr>\n    <tr>\n      <th>2</th>\n      <td>Bill Redpath</td>\n      <td>5</td>\n      <td>9</td>\n      <td>0.016754</td>\n      <td>0.153232</td>\n      <td>3</td>\n    </tr>\n    <tr>\n      <th>3</th>\n      <td>Blake Masters</td>\n      <td>75</td>\n      <td>501</td>\n      <td>0.465074</td>\n      <td>0.048874</td>\n      <td>2</td>\n    </tr>\n    <tr>\n      <th>4</th>\n      <td>Bob McDermott</td>\n      <td>1</td>\n      <td>4</td>\n      <td>0.227386</td>\n      <td>0.521716</td>\n      <td>2</td>\n    </tr>\n    <tr>\n      <th>5</th>\n      <td>Brian Bengs</td>\n      <td>211</td>\n      <td>510</td>\n      <td>0.250897</td>\n      <td>0.458107</td>\n      <td>2</td>\n    </tr>\n    <tr>\n      <th>6</th>\n      <td>Catherine Cortez Masto</td>\n      <td>448</td>\n      <td>683</td>\n      <td>0.488138</td>\n      <td>0.007766</td>\n      <td>1</td>\n    </tr>\n    <tr>\n      <th>7</th>\n      <td>Charles Booker</td>\n      <td>522</td>\n      <td>1009</td>\n      <td>0.382045</td>\n      <td>0.235819</td>\n      <td>2</td>\n    </tr>\n    <tr>\n      <th>8</th>\n      <td>Cheri Beasley</td>\n      <td>479</td>\n      <td>466</td>\n      <td>0.472731</td>\n      <td>0.032257</td>\n      <td>2</td>\n    </tr>\n    <tr>\n      <th>9</th>\n      <td>Chris Chaffee</td>\n      <td>111</td>\n      <td>675</td>\n      <td>0.340749</td>\n      <td>0.316932</td>\n      <td>2</td>\n    </tr>\n    <tr>\n      <th>10</th>\n      <td>Chris Van Hollen</td>\n      <td>3</td>\n      <td>19</td>\n      <td>0.657680</td>\n      <td>0.316932</td>\n      <td>1</td>\n    </tr>\n    <tr>\n      <th>11</th>\n      <td>Chuck Grassley</td>\n      <td>308</td>\n      <td>402</td>\n      <td>0.564276</td>\n      <td>0.128551</td>\n      <td>1</td>\n    </tr>\n    <tr>\n      <th>12</th>\n      <td>Chuck Schumer</td>\n      <td>40</td>\n      <td>88</td>\n      <td>0.563463</td>\n      <td>0.132112</td>\n      <td>1</td>\n    </tr>\n    <tr>\n      <th>13</th>\n      <td>David Roth</td>\n      <td>260</td>\n      <td>970</td>\n      <td>0.287377</td>\n      <td>0.319401</td>\n      <td>2</td>\n    </tr>\n    <tr>\n      <th>14</th>\n      <td>Don Bolduc</td>\n      <td>397</td>\n      <td>817</td>\n      <td>0.444346</td>\n      <td>0.090608</td>\n      <td>2</td>\n    </tr>\n    <tr>\n      <th>15</th>\n      <td>Eric Schmitt</td>\n      <td>119</td>\n      <td>277</td>\n      <td>0.554323</td>\n      <td>0.132554</td>\n      <td>1</td>\n    </tr>\n    <tr>\n      <th>16</th>\n      <td>Erik Chase Gerhardt</td>\n      <td>22</td>\n      <td>227</td>\n      <td>0.013653</td>\n      <td>0.033876</td>\n      <td>3</td>\n    </tr>\n    <tr>\n      <th>17</th>\n      <td>Evan McMullin</td>\n      <td>340</td>\n      <td>754</td>\n      <td>0.413593</td>\n      <td>0.138346</td>\n      <td>2</td>\n    </tr>\n    <tr>\n      <th>18</th>\n      <td>Gary Chambers</td>\n      <td>187</td>\n      <td>345</td>\n      <td>0.177223</td>\n      <td>0.442702</td>\n      <td>2</td>\n    </tr>\n    <tr>\n      <th>19</th>\n      <td>Herschel Walker</td>\n      <td>109</td>\n      <td>126</td>\n      <td>0.485969</td>\n      <td>0.028061</td>\n      <td>2</td>\n    </tr>\n    <tr>\n      <th>20</th>\n      <td>J.D. Vance</td>\n      <td>90</td>\n      <td>328</td>\n      <td>0.530349</td>\n      <td>0.061119</td>\n      <td>1</td>\n    </tr>\n    <tr>\n      <th>21</th>\n      <td>James Arthur Hansen</td>\n      <td>478</td>\n      <td>1173</td>\n      <td>0.023275</td>\n      <td>0.138346</td>\n      <td>3</td>\n    </tr>\n    <tr>\n      <th>22</th>\n      <td>James Lankford</td>\n      <td>15</td>\n      <td>62</td>\n      <td>0.643093</td>\n      <td>0.322140</td>\n      <td>1</td>\n    </tr>\n    <tr>\n      <th>23</th>\n      <td>James Sceniak</td>\n      <td>174</td>\n      <td>824</td>\n      <td>0.034311</td>\n      <td>0.207461</td>\n      <td>3</td>\n    </tr>\n    <tr>\n      <th>24</th>\n      <td>Jeremy Kauffman</td>\n      <td>95</td>\n      <td>1406</td>\n      <td>0.019952</td>\n      <td>0.090608</td>\n      <td>3</td>\n    </tr>\n    <tr>\n      <th>25</th>\n      <td>Jerry Moran</td>\n      <td>18</td>\n      <td>35</td>\n      <td>0.600002</td>\n      <td>0.229624</td>\n      <td>1</td>\n    </tr>\n    <tr>\n      <th>26</th>\n      <td>Jo Rae Perkins</td>\n      <td>17</td>\n      <td>67</td>\n      <td>0.417790</td>\n      <td>0.137097</td>\n      <td>2</td>\n    </tr>\n    <tr>\n      <th>27</th>\n      <td>Joe O'Dea</td>\n      <td>363</td>\n      <td>615</td>\n      <td>0.412644</td>\n      <td>0.146179</td>\n      <td>2</td>\n    </tr>\n    <tr>\n      <th>28</th>\n      <td>Joe Pinion</td>\n      <td>94</td>\n      <td>397</td>\n      <td>0.431351</td>\n      <td>0.132112</td>\n      <td>2</td>\n    </tr>\n    <tr>\n      <th>29</th>\n      <td>John Boozman</td>\n      <td>49</td>\n      <td>198</td>\n      <td>0.658258</td>\n      <td>0.348388</td>\n      <td>1</td>\n    </tr>\n    <tr>\n      <th>30</th>\n      <td>John Fetterman</td>\n      <td>510</td>\n      <td>1838</td>\n      <td>0.504823</td>\n      <td>0.033876</td>\n      <td>1</td>\n    </tr>\n    <tr>\n      <th>31</th>\n      <td>John Hoeven</td>\n      <td>9</td>\n      <td>25</td>\n      <td>0.563525</td>\n      <td>0.311115</td>\n      <td>1</td>\n    </tr>\n    <tr>\n      <th>32</th>\n      <td>John Neely Kennedy</td>\n      <td>73</td>\n      <td>113</td>\n      <td>0.619925</td>\n      <td>0.442702</td>\n      <td>1</td>\n    </tr>\n    <tr>\n      <th>33</th>\n      <td>John Thune</td>\n      <td>7</td>\n      <td>15</td>\n      <td>0.709004</td>\n      <td>0.458107</td>\n      <td>1</td>\n    </tr>\n    <tr>\n      <th>34</th>\n      <td>Kathy Salvi</td>\n      <td>311</td>\n      <td>279</td>\n      <td>0.415003</td>\n      <td>0.153232</td>\n      <td>2</td>\n    </tr>\n    <tr>\n      <th>35</th>\n      <td>Katie Britt</td>\n      <td>291</td>\n      <td>319</td>\n      <td>0.667520</td>\n      <td>0.358326</td>\n      <td>1</td>\n    </tr>\n    <tr>\n      <th>36</th>\n      <td>Katrina Christiansen</td>\n      <td>141</td>\n      <td>851</td>\n      <td>0.252410</td>\n      <td>0.311115</td>\n      <td>2</td>\n    </tr>\n    <tr>\n      <th>37</th>\n      <td>Kelly Tshibaka</td>\n      <td>167</td>\n      <td>227</td>\n      <td>0.446851</td>\n      <td>0.071460</td>\n      <td>2</td>\n    </tr>\n    <tr>\n      <th>38</th>\n      <td>Kendra Horn</td>\n      <td>253</td>\n      <td>265</td>\n      <td>0.352439</td>\n      <td>0.265173</td>\n      <td>2</td>\n    </tr>\n    <tr>\n      <th>39</th>\n      <td>Kenneth Blevins</td>\n      <td>25</td>\n      <td>275</td>\n      <td>0.017803</td>\n      <td>0.322140</td>\n      <td>4</td>\n    </tr>\n    <tr>\n      <th>40</th>\n      <td>Leora Levy</td>\n      <td>102</td>\n      <td>266</td>\n      <td>0.417453</td>\n      <td>0.157094</td>\n      <td>2</td>\n    </tr>\n    <tr>\n      <th>41</th>\n      <td>Lisa Murkowski</td>\n      <td>405</td>\n      <td>173</td>\n      <td>0.518312</td>\n      <td>0.071460</td>\n      <td>1</td>\n    </tr>\n    <tr>\n      <th>42</th>\n      <td>Luke Mixon</td>\n      <td>341</td>\n      <td>644</td>\n      <td>0.128166</td>\n      <td>0.442702</td>\n      <td>3</td>\n    </tr>\n    <tr>\n      <th>43</th>\n      <td>Madison Horn</td>\n      <td>277</td>\n      <td>700</td>\n      <td>0.320953</td>\n      <td>0.322140</td>\n      <td>2</td>\n    </tr>\n    <tr>\n      <th>44</th>\n      <td>Maggie Hassan</td>\n      <td>266</td>\n      <td>668</td>\n      <td>0.534954</td>\n      <td>0.090608</td>\n      <td>1</td>\n    </tr>\n    <tr>\n      <th>45</th>\n      <td>Mandela Barnes</td>\n      <td>376</td>\n      <td>1100</td>\n      <td>0.494054</td>\n      <td>0.010073</td>\n      <td>2</td>\n    </tr>\n    <tr>\n      <th>46</th>\n      <td>Marc Victor</td>\n      <td>23</td>\n      <td>58</td>\n      <td>0.020900</td>\n      <td>0.048874</td>\n      <td>3</td>\n    </tr>\n    <tr>\n      <th>47</th>\n      <td>Marco Rubio</td>\n      <td>381</td>\n      <td>1000</td>\n      <td>0.576803</td>\n      <td>0.164130</td>\n      <td>1</td>\n    </tr>\n    <tr>\n      <th>48</th>\n      <td>Mark Kelly</td>\n      <td>302</td>\n      <td>365</td>\n      <td>0.513949</td>\n      <td>0.048874</td>\n      <td>1</td>\n    </tr>\n    <tr>\n      <th>49</th>\n      <td>Mark Meuser</td>\n      <td>136</td>\n      <td>673</td>\n      <td>0.408643</td>\n      <td>0.182714</td>\n      <td>2</td>\n    </tr>\n  </tbody>\n</table>\n</div>"
     },
     "execution_count": 6,
     "metadata": {},
     "output_type": "execute_result"
    }
   ],
   "source": [
    "#aggregate by name\n",
    "#create a dataframe with the values for the algorithms\n",
    "#transform position into a categorical variable\n",
    "\n",
    "df_h1a_h1b['position'] = df_h1a_h1b['position'].astype('category')\n",
    "\n",
    "\n",
    "agg_dict = {\n",
    "    #aggregate the numerical values\n",
    "    'local':'sum',\n",
    "    'national':'sum',\n",
    "    #these values are equal for all the tweets from the same person\n",
    "    'result_pctg':'mean',\n",
    "    'winner_margin_for_runners_up':'mean',\n",
    "    #now the categorical values\n",
    "    'position':'last'\n",
    "}\n",
    "\n",
    "\n",
    "#create the new dataframe\n",
    "df_h1a_h1b = df_h1a_h1b.groupby(['name']).agg(agg_dict).reset_index()\n",
    "df_h1a_h1b.head(50)\n"
   ],
   "metadata": {
    "collapsed": false
   }
  },
  {
   "cell_type": "code",
   "execution_count": 7,
   "outputs": [
    {
     "data": {
      "text/plain": "                     name  local  national  result_pctg  \\\n0             Adam Laxalt    523       540     0.480372   \n1            Alex Padilla    201       571     0.591357   \n2            Bill Redpath      5         9     0.016754   \n3           Blake Masters     75       501     0.465074   \n4           Bob McDermott      1         4     0.227386   \n..                    ...    ...       ...          ...   \n74              Tim Scott     46       782     0.620044   \n75             Todd Young    178       257     0.586183   \n76  Trudy Busch Valentine    316       343     0.421769   \n77            Val Demings    337       610     0.412673   \n78              Will Boyd    168       138     0.309194   \n\n    winner_margin_for_runners_up position  \n0                       0.007766        2  \n1                       0.182714        1  \n2                       0.153232        3  \n3                       0.048874        2  \n4                       0.521716        2  \n..                           ...      ...  \n74                      0.240089        1  \n75                      0.207461        1  \n76                      0.132554        2  \n77                      0.164130        2  \n78                      0.358326        2  \n\n[79 rows x 6 columns]",
      "text/html": "<div>\n<style scoped>\n    .dataframe tbody tr th:only-of-type {\n        vertical-align: middle;\n    }\n\n    .dataframe tbody tr th {\n        vertical-align: top;\n    }\n\n    .dataframe thead th {\n        text-align: right;\n    }\n</style>\n<table border=\"1\" class=\"dataframe\">\n  <thead>\n    <tr style=\"text-align: right;\">\n      <th></th>\n      <th>name</th>\n      <th>local</th>\n      <th>national</th>\n      <th>result_pctg</th>\n      <th>winner_margin_for_runners_up</th>\n      <th>position</th>\n    </tr>\n  </thead>\n  <tbody>\n    <tr>\n      <th>0</th>\n      <td>Adam Laxalt</td>\n      <td>523</td>\n      <td>540</td>\n      <td>0.480372</td>\n      <td>0.007766</td>\n      <td>2</td>\n    </tr>\n    <tr>\n      <th>1</th>\n      <td>Alex Padilla</td>\n      <td>201</td>\n      <td>571</td>\n      <td>0.591357</td>\n      <td>0.182714</td>\n      <td>1</td>\n    </tr>\n    <tr>\n      <th>2</th>\n      <td>Bill Redpath</td>\n      <td>5</td>\n      <td>9</td>\n      <td>0.016754</td>\n      <td>0.153232</td>\n      <td>3</td>\n    </tr>\n    <tr>\n      <th>3</th>\n      <td>Blake Masters</td>\n      <td>75</td>\n      <td>501</td>\n      <td>0.465074</td>\n      <td>0.048874</td>\n      <td>2</td>\n    </tr>\n    <tr>\n      <th>4</th>\n      <td>Bob McDermott</td>\n      <td>1</td>\n      <td>4</td>\n      <td>0.227386</td>\n      <td>0.521716</td>\n      <td>2</td>\n    </tr>\n    <tr>\n      <th>...</th>\n      <td>...</td>\n      <td>...</td>\n      <td>...</td>\n      <td>...</td>\n      <td>...</td>\n      <td>...</td>\n    </tr>\n    <tr>\n      <th>74</th>\n      <td>Tim Scott</td>\n      <td>46</td>\n      <td>782</td>\n      <td>0.620044</td>\n      <td>0.240089</td>\n      <td>1</td>\n    </tr>\n    <tr>\n      <th>75</th>\n      <td>Todd Young</td>\n      <td>178</td>\n      <td>257</td>\n      <td>0.586183</td>\n      <td>0.207461</td>\n      <td>1</td>\n    </tr>\n    <tr>\n      <th>76</th>\n      <td>Trudy Busch Valentine</td>\n      <td>316</td>\n      <td>343</td>\n      <td>0.421769</td>\n      <td>0.132554</td>\n      <td>2</td>\n    </tr>\n    <tr>\n      <th>77</th>\n      <td>Val Demings</td>\n      <td>337</td>\n      <td>610</td>\n      <td>0.412673</td>\n      <td>0.164130</td>\n      <td>2</td>\n    </tr>\n    <tr>\n      <th>78</th>\n      <td>Will Boyd</td>\n      <td>168</td>\n      <td>138</td>\n      <td>0.309194</td>\n      <td>0.358326</td>\n      <td>2</td>\n    </tr>\n  </tbody>\n</table>\n<p>79 rows × 6 columns</p>\n</div>"
     },
     "execution_count": 7,
     "metadata": {},
     "output_type": "execute_result"
    }
   ],
   "source": [
    "df_h1a_h1b.head(100)"
   ],
   "metadata": {
    "collapsed": false
   }
  },
  {
   "cell_type": "code",
   "execution_count": 8,
   "outputs": [
    {
     "data": {
      "text/plain": "    winner_margin_for_runners_up  national_proportion  local_proportion\n1                       0.182714             0.739637          0.260363\n6                       0.007766             0.603890          0.396110\n10                      0.316932             0.863636          0.136364\n11                      0.128551             0.566197          0.433803\n12                      0.132112             0.687500          0.312500\n15                      0.132554             0.699495          0.300505\n20                      0.061119             0.784689          0.215311\n22                      0.322140             0.805195          0.194805\n25                      0.229624             0.660377          0.339623\n29                      0.348388             0.801619          0.198381",
      "text/html": "<div>\n<style scoped>\n    .dataframe tbody tr th:only-of-type {\n        vertical-align: middle;\n    }\n\n    .dataframe tbody tr th {\n        vertical-align: top;\n    }\n\n    .dataframe thead th {\n        text-align: right;\n    }\n</style>\n<table border=\"1\" class=\"dataframe\">\n  <thead>\n    <tr style=\"text-align: right;\">\n      <th></th>\n      <th>winner_margin_for_runners_up</th>\n      <th>national_proportion</th>\n      <th>local_proportion</th>\n    </tr>\n  </thead>\n  <tbody>\n    <tr>\n      <th>1</th>\n      <td>0.182714</td>\n      <td>0.739637</td>\n      <td>0.260363</td>\n    </tr>\n    <tr>\n      <th>6</th>\n      <td>0.007766</td>\n      <td>0.603890</td>\n      <td>0.396110</td>\n    </tr>\n    <tr>\n      <th>10</th>\n      <td>0.316932</td>\n      <td>0.863636</td>\n      <td>0.136364</td>\n    </tr>\n    <tr>\n      <th>11</th>\n      <td>0.128551</td>\n      <td>0.566197</td>\n      <td>0.433803</td>\n    </tr>\n    <tr>\n      <th>12</th>\n      <td>0.132112</td>\n      <td>0.687500</td>\n      <td>0.312500</td>\n    </tr>\n    <tr>\n      <th>15</th>\n      <td>0.132554</td>\n      <td>0.699495</td>\n      <td>0.300505</td>\n    </tr>\n    <tr>\n      <th>20</th>\n      <td>0.061119</td>\n      <td>0.784689</td>\n      <td>0.215311</td>\n    </tr>\n    <tr>\n      <th>22</th>\n      <td>0.322140</td>\n      <td>0.805195</td>\n      <td>0.194805</td>\n    </tr>\n    <tr>\n      <th>25</th>\n      <td>0.229624</td>\n      <td>0.660377</td>\n      <td>0.339623</td>\n    </tr>\n    <tr>\n      <th>29</th>\n      <td>0.348388</td>\n      <td>0.801619</td>\n      <td>0.198381</td>\n    </tr>\n  </tbody>\n</table>\n</div>"
     },
     "execution_count": 8,
     "metadata": {},
     "output_type": "execute_result"
    }
   ],
   "source": [
    "#check for the proportion of tweets and normalize values for linear regression\n",
    "df_h1a_h1b['national_proportion'] = df_h1a_h1b['national'] / (df_h1a_h1b['local'] + df_h1a_h1b['national'])\n",
    "df_h1a_h1b['local_proportion'] = df_h1a_h1b['local'] / (df_h1a_h1b['national'] + df_h1a_h1b['local'])\n",
    "\n",
    "#drop local and national columns\n",
    "winners_df = df_h1a_h1b[df_h1a_h1b['position']==1]\n",
    "winners_df = winners_df.drop(columns=['local','national','name','result_pctg','position'])\n",
    "winners_df.head(10)"
   ],
   "metadata": {
    "collapsed": false
   }
  },
  {
   "cell_type": "code",
   "execution_count": 9,
   "outputs": [
    {
     "name": "stdout",
     "output_type": "stream",
     "text": [
      "<class 'pandas.core.frame.DataFrame'>\n",
      "Int64Index: 34 entries, 1 to 75\n",
      "Data columns (total 3 columns):\n",
      " #   Column                          Non-Null Count  Dtype  \n",
      "---  ------                          --------------  -----  \n",
      " 0   winner_margin_for_runners_up    34 non-null     float64\n",
      " 1   normalized_national_proportion  34 non-null     float64\n",
      " 2   normalized_local_proportion     34 non-null     float64\n",
      "dtypes: float64(3)\n",
      "memory usage: 1.1 KB\n"
     ]
    }
   ],
   "source": [
    "# Normalize the variables\n",
    "winners_df['normalized_national_proportion'] = (winners_df['national_proportion'] - winners_df['national_proportion'].mean()) / winners_df['national_proportion'].std()\n",
    "winners_df['normalized_local_proportion'] = (winners_df['local_proportion'] - winners_df['local_proportion'].mean()) / winners_df['local_proportion'].std()\n",
    "\n",
    "\n",
    "#drop non-normalized values\n",
    "winners_df = winners_df.drop(columns=['local_proportion','national_proportion'],axis=1)\n",
    "winners_df.info()"
   ],
   "metadata": {
    "collapsed": false
   }
  },
  {
   "cell_type": "code",
   "execution_count": 10,
   "outputs": [
    {
     "name": "stdout",
     "output_type": "stream",
     "text": [
      "Winners with Normalized Variables - National Proportion:\n",
      "                                 OLS Regression Results                                 \n",
      "========================================================================================\n",
      "Dep. Variable:     winner_margin_for_runners_up   R-squared:                       0.101\n",
      "Model:                                      OLS   Adj. R-squared:                  0.073\n",
      "Method:                           Least Squares   F-statistic:                     3.597\n",
      "Date:                          Tue, 09 May 2023   Prob (F-statistic):             0.0669\n",
      "Time:                                  21:20:04   Log-Likelihood:                 24.090\n",
      "No. Observations:                            34   AIC:                            -44.18\n",
      "Df Residuals:                                32   BIC:                            -41.13\n",
      "Df Model:                                     1                                         \n",
      "Covariance Type:                      nonrobust                                         \n",
      "==================================================================================================\n",
      "                                     coef    std err          t      P>|t|      [0.025      0.975]\n",
      "--------------------------------------------------------------------------------------------------\n",
      "const                              0.1899      0.021      9.015      0.000       0.147       0.233\n",
      "normalized_national_proportion     0.0405      0.021      1.897      0.067      -0.003       0.084\n",
      "==============================================================================\n",
      "Omnibus:                        2.229   Durbin-Watson:                   1.502\n",
      "Prob(Omnibus):                  0.328   Jarque-Bera (JB):                1.879\n",
      "Skew:                           0.564   Prob(JB):                        0.391\n",
      "Kurtosis:                       2.765   Cond. No.                         1.02\n",
      "==============================================================================\n",
      "\n",
      "Notes:\n",
      "[1] Standard Errors assume that the covariance matrix of the errors is correctly specified.\n",
      "Winners with Normalized Variables - Local Proportion:\n",
      "                                 OLS Regression Results                                 \n",
      "========================================================================================\n",
      "Dep. Variable:     winner_margin_for_runners_up   R-squared:                       0.101\n",
      "Model:                                      OLS   Adj. R-squared:                  0.073\n",
      "Method:                           Least Squares   F-statistic:                     3.597\n",
      "Date:                          Tue, 09 May 2023   Prob (F-statistic):             0.0669\n",
      "Time:                                  21:20:04   Log-Likelihood:                 24.090\n",
      "No. Observations:                            34   AIC:                            -44.18\n",
      "Df Residuals:                                32   BIC:                            -41.13\n",
      "Df Model:                                     1                                         \n",
      "Covariance Type:                      nonrobust                                         \n",
      "===============================================================================================\n",
      "                                  coef    std err          t      P>|t|      [0.025      0.975]\n",
      "-----------------------------------------------------------------------------------------------\n",
      "const                           0.1899      0.021      9.015      0.000       0.147       0.233\n",
      "normalized_local_proportion    -0.0405      0.021     -1.897      0.067      -0.084       0.003\n",
      "==============================================================================\n",
      "Omnibus:                        2.229   Durbin-Watson:                   1.502\n",
      "Prob(Omnibus):                  0.328   Jarque-Bera (JB):                1.879\n",
      "Skew:                           0.564   Prob(JB):                        0.391\n",
      "Kurtosis:                       2.765   Cond. No.                         1.02\n",
      "==============================================================================\n",
      "\n",
      "Notes:\n",
      "[1] Standard Errors assume that the covariance matrix of the errors is correctly specified.\n"
     ]
    },
    {
     "name": "stderr",
     "output_type": "stream",
     "text": [
      "/Users/franciscorfafonso/opt/anaconda3/lib/python3.9/site-packages/statsmodels/tsa/tsatools.py:142: FutureWarning: In a future version of pandas all arguments of concat except for the argument 'objs' will be keyword-only\n",
      "  x = pd.concat(x[::order], 1)\n",
      "/Users/franciscorfafonso/opt/anaconda3/lib/python3.9/site-packages/statsmodels/tsa/tsatools.py:142: FutureWarning: In a future version of pandas all arguments of concat except for the argument 'objs' will be keyword-only\n",
      "  x = pd.concat(x[::order], 1)\n"
     ]
    }
   ],
   "source": [
    "# Define a function to perform linear regression and print the results\n",
    "def perform_linear_regression(data, dependent_var, independent_vars):\n",
    "    Y = data[dependent_var]\n",
    "    X = data[independent_vars]\n",
    "    X = sm.add_constant(X)\n",
    "    model = sm.OLS(Y, X).fit()\n",
    "    print(model.summary())\n",
    "\n",
    "\n",
    "# Perform linear regression with only winners using normalized variables for national_proportion\n",
    "print(\"Winners with Normalized Variables - National Proportion:\")\n",
    "perform_linear_regression(winners_df, 'winner_margin_for_runners_up', ['normalized_national_proportion'])\n",
    "\n",
    "# Perform linear regression with only winners using normalized variables for local_proportion\n",
    "print(\"Winners with Normalized Variables - Local Proportion:\")\n",
    "perform_linear_regression(winners_df, 'winner_margin_for_runners_up', ['normalized_local_proportion'])\n"
   ],
   "metadata": {
    "collapsed": false
   }
  },
  {
   "cell_type": "markdown",
   "source": [
    "\n",
    "\n",
    "\n",
    "## Results\n",
    "\n",
    "\n"
   ],
   "metadata": {
    "collapsed": false
   }
  },
  {
   "cell_type": "raw",
   "source": [
    "With these results, we can see a positive relationship between winners_margin and national_issues, which means the that while the races become more loose, the focus on national issues increase. Although this is a good indicator for our 2 hypothesis, we have a significance value of 0.067, which leads to both hypothesis not being statistically significant in a standard level of 0.05 and the null hypothesis being rejected.\n",
    "\n",
    "\n",
    "Here is an example of how to present the results\n",
    "+--------------------------------+------------+------------+------------+------------+\n",
    "|                                | Coefficient| Std. Error | t-value    | P>|t|      |\n",
    "+--------------------------------+------------+------------+------------+------------+\n",
    "| National Proportion            |            |            |            |            |\n",
    "+--------------------------------+------------+------------+------------+------------+\n",
    "|   Constant                     |   -0.4732  |    0.299   |   -1.582   |    0.124   |\n",
    "+--------------------------------+------------+------------+------------+------------+\n",
    "|   Winning Margin for Runners-up|    2.4923  |    1.314   |    1.897   |    0.067   |\n",
    "+--------------------------------+------------+------------+------------+------------+\n",
    "| Local Proportion               |            |            |            |            |\n",
    "+--------------------------------+------------+------------+------------+------------+\n",
    "|   Constant                     |    0.4732  |    0.299   |    1.582   |    0.124   |\n",
    "+--------------------------------+------------+------------+------------+------------+\n",
    "|   Winning Margin for Runners-up|   -2.4923  |    1.314   |   -1.897   |    0.067   |\n",
    "+--------------------------------+------------+------------+------------+------------+\n"
   ],
   "metadata": {
    "collapsed": false
   }
  },
  {
   "cell_type": "code",
   "execution_count": 12,
   "outputs": [
    {
     "name": "stdout",
     "output_type": "stream",
     "text": [
      "                                 OLS Regression Results                                \n",
      "=======================================================================================\n",
      "Dep. Variable:     normalized_local_proportion   R-squared:                       0.101\n",
      "Model:                                     OLS   Adj. R-squared:                  0.073\n",
      "Method:                          Least Squares   F-statistic:                     3.597\n",
      "Date:                         Tue, 09 May 2023   Prob (F-statistic):             0.0669\n",
      "Time:                                 21:42:07   Log-Likelihood:                -45.925\n",
      "No. Observations:                           34   AIC:                             95.85\n",
      "Df Residuals:                               32   BIC:                             98.90\n",
      "Df Model:                                    1                                         \n",
      "Covariance Type:                     nonrobust                                         \n",
      "================================================================================================\n",
      "                                   coef    std err          t      P>|t|      [0.025      0.975]\n",
      "------------------------------------------------------------------------------------------------\n",
      "const                            0.4732      0.299      1.582      0.124      -0.136       1.083\n",
      "winner_margin_for_runners_up    -2.4923      1.314     -1.897      0.067      -5.169       0.184\n",
      "==============================================================================\n",
      "Omnibus:                        7.718   Durbin-Watson:                   1.862\n",
      "Prob(Omnibus):                  0.021   Jarque-Bera (JB):                6.265\n",
      "Skew:                           0.857   Prob(JB):                       0.0436\n",
      "Kurtosis:                       4.218   Cond. No.                         8.25\n",
      "==============================================================================\n",
      "\n",
      "Notes:\n",
      "[1] Standard Errors assume that the covariance matrix of the errors is correctly specified.\n",
      "                                  OLS Regression Results                                  \n",
      "==========================================================================================\n",
      "Dep. Variable:     normalized_national_proportion   R-squared:                       0.101\n",
      "Model:                                        OLS   Adj. R-squared:                  0.073\n",
      "Method:                             Least Squares   F-statistic:                     3.597\n",
      "Date:                            Tue, 09 May 2023   Prob (F-statistic):             0.0669\n",
      "Time:                                    21:42:07   Log-Likelihood:                -45.925\n",
      "No. Observations:                              34   AIC:                             95.85\n",
      "Df Residuals:                                  32   BIC:                             98.90\n",
      "Df Model:                                       1                                         \n",
      "Covariance Type:                        nonrobust                                         \n",
      "================================================================================================\n",
      "                                   coef    std err          t      P>|t|      [0.025      0.975]\n",
      "------------------------------------------------------------------------------------------------\n",
      "const                           -0.4732      0.299     -1.582      0.124      -1.083       0.136\n",
      "winner_margin_for_runners_up     2.4923      1.314      1.897      0.067      -0.184       5.169\n",
      "==============================================================================\n",
      "Omnibus:                        7.718   Durbin-Watson:                   1.862\n",
      "Prob(Omnibus):                  0.021   Jarque-Bera (JB):                6.265\n",
      "Skew:                          -0.857   Prob(JB):                       0.0436\n",
      "Kurtosis:                       4.218   Cond. No.                         8.25\n",
      "==============================================================================\n",
      "\n",
      "Notes:\n",
      "[1] Standard Errors assume that the covariance matrix of the errors is correctly specified.\n"
     ]
    }
   ],
   "source": [
    "from stargazer.stargazer import Stargazer\n",
    "from IPython.core.display import HTML\n",
    "\n",
    "stargazer = Stargazer([national_results, local_results])\n",
    "HTML(stargazer.render_html())# Add a constant to the DataFrame for the regression intercept\n",
    "winners_df['const'] = 1\n",
    "\n",
    "# Define the regression formula for local tweets\n",
    "local_model = sm.OLS(winners_df['normalized_local_proportion'], winners_df[['const', 'winner_margin_for_runners_up']])\n",
    "\n",
    "# Fit the model\n",
    "local_results = local_model.fit()\n",
    "\n",
    "# Print out the results\n",
    "print(local_results.summary())\n",
    "\n",
    "# Define the regression formula for national tweets\n",
    "national_model = sm.OLS(winners_df['normalized_national_proportion'], winners_df[['const', 'winner_margin_for_runners_up']])\n",
    "\n",
    "# Fit the model\n",
    "national_results = national_model.fit()\n",
    "\n",
    "# Print out the results\n",
    "print(national_results.summary())"
   ],
   "metadata": {
    "collapsed": false
   }
  },
  {
   "cell_type": "markdown",
   "source": [],
   "metadata": {
    "collapsed": false
   }
  },
  {
   "cell_type": "code",
   "execution_count": 16,
   "outputs": [
    {
     "data": {
      "text/plain": "<IPython.core.display.HTML object>",
      "text/html": "<table style=\"text-align:center\"><tr><td colspan=\"3\" style=\"border-bottom: 1px solid black\"></td></tr><tr><td style=\"text-align:left\"></td><tr><td></td><td colspan=\"1\">National Tweets</td><td colspan=\"1\">Local Tweets</td></tr><tr><td style=\"text-align:left\"></td><td>(1)</td><td>(2)</td></tr><tr><td colspan=\"3\" style=\"border-bottom: 1px solid black\"></td></tr><tr><td style=\"text-align:left\">Intercept</td><td>-0.473<sup></sup></td><td>0.473<sup></sup></td></tr><tr><td style=\"text-align:left\"></td><td>(0.299)</td><td>(0.299)</td></tr><tr><td style=\"text-align:left\">winner_margin_for_runners_up</td><td>2.492<sup>*</sup></td><td>-2.492<sup>*</sup></td></tr><tr><td style=\"text-align:left\"></td><td>(1.314)</td><td>(1.314)</td></tr><td colspan=\"3\" style=\"border-bottom: 1px solid black\"></td></tr><tr><td style=\"text-align: left\">Observations</td><td>34</td><td>34</td></tr><tr><td style=\"text-align: left\">R<sup>2</sup></td><td>0.101</td><td>0.101</td></tr><tr><td style=\"text-align: left\">Adjusted R<sup>2</sup></td><td>0.073</td><td>0.073</td></tr><tr><td style=\"text-align: left\">Residual Std. Error</td><td>0.963 (df=32)</td><td>0.963 (df=32)</td></tr><tr><td style=\"text-align: left\">F Statistic</td><td>3.597<sup>*</sup> (df=1; 32)</td><td>3.597<sup>*</sup> (df=1; 32)</td></tr><tr><td colspan=\"3\" style=\"border-bottom: 1px solid black\"></td></tr><tr><td style=\"text-align: left\">Note:</td>\n <td colspan=\"2\" style=\"text-align: right\">\n  <sup>*</sup>p&lt;0.1;\n  <sup>**</sup>p&lt;0.05;\n  <sup>***</sup>p&lt;0.01\n </td></tr></table>"
     },
     "execution_count": 16,
     "metadata": {},
     "output_type": "execute_result"
    }
   ],
   "source": [
    "from stargazer.stargazer import Stargazer\n",
    "from IPython.core.display import HTML\n",
    "\n",
    "stargazer = Stargazer([national_results, local_results])\n",
    "# Rename the models\n",
    "stargazer.rename_covariates({'const': 'Intercept'})\n",
    "\n",
    "# Change model names\n",
    "stargazer.custom_columns(['National Tweets', 'Local Tweets'], [1, 1])\n",
    "HTML(stargazer.render_html())"
   ],
   "metadata": {
    "collapsed": false
   }
  },
  {
   "cell_type": "code",
   "execution_count": 17,
   "outputs": [],
   "source": [
    "with open('regression_table_2.html', 'w') as f:\n",
    "    f.write(stargazer.render_html())"
   ],
   "metadata": {
    "collapsed": false
   }
  },
  {
   "cell_type": "code",
   "execution_count": null,
   "outputs": [],
   "source": [],
   "metadata": {
    "collapsed": false
   }
  }
 ],
 "metadata": {
  "kernelspec": {
   "display_name": "Python 3",
   "language": "python",
   "name": "python3"
  },
  "language_info": {
   "codemirror_mode": {
    "name": "ipython",
    "version": 2
   },
   "file_extension": ".py",
   "mimetype": "text/x-python",
   "name": "python",
   "nbconvert_exporter": "python",
   "pygments_lexer": "ipython2",
   "version": "2.7.6"
  }
 },
 "nbformat": 4,
 "nbformat_minor": 0
}
