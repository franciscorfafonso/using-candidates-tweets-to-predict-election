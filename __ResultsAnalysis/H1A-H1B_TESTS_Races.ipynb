{
 "cells": [
  {
   "cell_type": "code",
   "execution_count": 1,
   "metadata": {
    "collapsed": true
   },
   "outputs": [],
   "source": [
    "# Loading packages\n",
    "\n",
    "import pandas as pd\n",
    "import numpy as np\n",
    "import statsmodels.api as sm"
   ]
  },
  {
   "cell_type": "code",
   "execution_count": 2,
   "outputs": [
    {
     "name": "stdout",
     "output_type": "stream",
     "text": [
      "<class 'pandas.core.frame.DataFrame'>\n",
      "RangeIndex: 57790 entries, 0 to 57789\n",
      "Data columns (total 29 columns):\n",
      " #   Column                        Non-Null Count  Dtype  \n",
      "---  ------                        --------------  -----  \n",
      " 0   tweet_id                      57790 non-null  object \n",
      " 1   text                          57790 non-null  object \n",
      " 2   created_at                    57790 non-null  object \n",
      " 3   campaign_week                 57790 non-null  int64  \n",
      " 4   process_text_check            57790 non-null  object \n",
      " 5   name                          57790 non-null  object \n",
      " 6   handle                        57790 non-null  object \n",
      " 7   party                         57790 non-null  object \n",
      " 8   state_code                    57790 non-null  object \n",
      " 9   state_name                    57790 non-null  object \n",
      " 10  result_pctg                   57790 non-null  float64\n",
      " 11  result_votes                  57790 non-null  int64  \n",
      " 12  position                      57790 non-null  int64  \n",
      " 13  total_votes_casted            57790 non-null  int64  \n",
      " 14  winner_margin_for_runners_up  57790 non-null  float64\n",
      " 15  check_city_filtered           20226 non-null  object \n",
      " 16  PreProcessedText_WithoutCity  57790 non-null  object \n",
      " 17  Words                         57790 non-null  object \n",
      " 18  WordsCleaned                  57790 non-null  object \n",
      " 19  WordsLemmatized               57790 non-null  object \n",
      " 20  Campaign Event                57790 non-null  float64\n",
      " 21  Social Protection             57790 non-null  float64\n",
      " 22  General Discussion            57790 non-null  float64\n",
      " 23  Abortion                      57790 non-null  float64\n",
      " 24  Homeland Security             57790 non-null  float64\n",
      " 25  Candidate Denigration         57790 non-null  float64\n",
      " 26  Vote Instigation              57790 non-null  float64\n",
      " 27  Campaign Contribution         57790 non-null  float64\n",
      " 28  Economy Policies              57790 non-null  float64\n",
      "dtypes: float64(11), int64(4), object(14)\n",
      "memory usage: 12.8+ MB\n"
     ]
    }
   ],
   "source": [
    "# Load the DataFrame from the pickle file\n",
    "df = pd.read_pickle('documents_topics.pkl')\n",
    "df.info()"
   ],
   "metadata": {
    "collapsed": false
   }
  },
  {
   "cell_type": "markdown",
   "source": [
    "## Test for H1a and H1b"
   ],
   "metadata": {
    "collapsed": false
   }
  },
  {
   "cell_type": "code",
   "execution_count": 3,
   "outputs": [],
   "source": [
    "df_h1a_h1b = df\n",
    "\n",
    "def is_empty_or_nan(x):\n",
    "    if x != x or not x:\n",
    "        return True\n",
    "    return False\n",
    "\n",
    "# Create 'local' and 'national' columns\n",
    "df_h1a_h1b['local'] = df_h1a_h1b['check_city_filtered'].apply(lambda x: 1 if not is_empty_or_nan(x) else 0)\n",
    "df_h1a_h1b['national'] = df_h1a_h1b['check_city_filtered'].apply(lambda x: 1 if is_empty_or_nan(x) else 0)"
   ],
   "metadata": {
    "collapsed": false
   }
  },
  {
   "cell_type": "code",
   "execution_count": 4,
   "outputs": [
    {
     "name": "stdout",
     "output_type": "stream",
     "text": [
      "<class 'pandas.core.frame.DataFrame'>\n",
      "RangeIndex: 57790 entries, 0 to 57789\n",
      "Data columns (total 31 columns):\n",
      " #   Column                        Non-Null Count  Dtype  \n",
      "---  ------                        --------------  -----  \n",
      " 0   tweet_id                      57790 non-null  object \n",
      " 1   text                          57790 non-null  object \n",
      " 2   created_at                    57790 non-null  object \n",
      " 3   campaign_week                 57790 non-null  int64  \n",
      " 4   process_text_check            57790 non-null  object \n",
      " 5   name                          57790 non-null  object \n",
      " 6   handle                        57790 non-null  object \n",
      " 7   party                         57790 non-null  object \n",
      " 8   state_code                    57790 non-null  object \n",
      " 9   state_name                    57790 non-null  object \n",
      " 10  result_pctg                   57790 non-null  float64\n",
      " 11  result_votes                  57790 non-null  int64  \n",
      " 12  position                      57790 non-null  int64  \n",
      " 13  total_votes_casted            57790 non-null  int64  \n",
      " 14  winner_margin_for_runners_up  57790 non-null  float64\n",
      " 15  check_city_filtered           20226 non-null  object \n",
      " 16  PreProcessedText_WithoutCity  57790 non-null  object \n",
      " 17  Words                         57790 non-null  object \n",
      " 18  WordsCleaned                  57790 non-null  object \n",
      " 19  WordsLemmatized               57790 non-null  object \n",
      " 20  Campaign Event                57790 non-null  float64\n",
      " 21  Social Protection             57790 non-null  float64\n",
      " 22  General Discussion            57790 non-null  float64\n",
      " 23  Abortion                      57790 non-null  float64\n",
      " 24  Homeland Security             57790 non-null  float64\n",
      " 25  Candidate Denigration         57790 non-null  float64\n",
      " 26  Vote Instigation              57790 non-null  float64\n",
      " 27  Campaign Contribution         57790 non-null  float64\n",
      " 28  Economy Policies              57790 non-null  float64\n",
      " 29  local                         57790 non-null  int64  \n",
      " 30  national                      57790 non-null  int64  \n",
      "dtypes: float64(11), int64(6), object(14)\n",
      "memory usage: 13.7+ MB\n"
     ]
    }
   ],
   "source": [
    "df_h1a_h1b.info()"
   ],
   "metadata": {
    "collapsed": false
   }
  },
  {
   "cell_type": "code",
   "execution_count": 5,
   "outputs": [
    {
     "data": {
      "text/plain": "      state_name  position  winner_margin_for_runners_up  local  national\n0  New Hampshire         2                      0.090608      1         0\n1  New Hampshire         2                      0.090608      1         0\n2  New Hampshire         2                      0.090608      1         0\n3  New Hampshire         2                      0.090608      0         1\n4  New Hampshire         2                      0.090608      0         1\n5  New Hampshire         2                      0.090608      0         1\n6  New Hampshire         2                      0.090608      1         0\n7  New Hampshire         2                      0.090608      0         1\n8  New Hampshire         2                      0.090608      1         0\n9  New Hampshire         2                      0.090608      1         0",
      "text/html": "<div>\n<style scoped>\n    .dataframe tbody tr th:only-of-type {\n        vertical-align: middle;\n    }\n\n    .dataframe tbody tr th {\n        vertical-align: top;\n    }\n\n    .dataframe thead th {\n        text-align: right;\n    }\n</style>\n<table border=\"1\" class=\"dataframe\">\n  <thead>\n    <tr style=\"text-align: right;\">\n      <th></th>\n      <th>state_name</th>\n      <th>position</th>\n      <th>winner_margin_for_runners_up</th>\n      <th>local</th>\n      <th>national</th>\n    </tr>\n  </thead>\n  <tbody>\n    <tr>\n      <th>0</th>\n      <td>New Hampshire</td>\n      <td>2</td>\n      <td>0.090608</td>\n      <td>1</td>\n      <td>0</td>\n    </tr>\n    <tr>\n      <th>1</th>\n      <td>New Hampshire</td>\n      <td>2</td>\n      <td>0.090608</td>\n      <td>1</td>\n      <td>0</td>\n    </tr>\n    <tr>\n      <th>2</th>\n      <td>New Hampshire</td>\n      <td>2</td>\n      <td>0.090608</td>\n      <td>1</td>\n      <td>0</td>\n    </tr>\n    <tr>\n      <th>3</th>\n      <td>New Hampshire</td>\n      <td>2</td>\n      <td>0.090608</td>\n      <td>0</td>\n      <td>1</td>\n    </tr>\n    <tr>\n      <th>4</th>\n      <td>New Hampshire</td>\n      <td>2</td>\n      <td>0.090608</td>\n      <td>0</td>\n      <td>1</td>\n    </tr>\n    <tr>\n      <th>5</th>\n      <td>New Hampshire</td>\n      <td>2</td>\n      <td>0.090608</td>\n      <td>0</td>\n      <td>1</td>\n    </tr>\n    <tr>\n      <th>6</th>\n      <td>New Hampshire</td>\n      <td>2</td>\n      <td>0.090608</td>\n      <td>1</td>\n      <td>0</td>\n    </tr>\n    <tr>\n      <th>7</th>\n      <td>New Hampshire</td>\n      <td>2</td>\n      <td>0.090608</td>\n      <td>0</td>\n      <td>1</td>\n    </tr>\n    <tr>\n      <th>8</th>\n      <td>New Hampshire</td>\n      <td>2</td>\n      <td>0.090608</td>\n      <td>1</td>\n      <td>0</td>\n    </tr>\n    <tr>\n      <th>9</th>\n      <td>New Hampshire</td>\n      <td>2</td>\n      <td>0.090608</td>\n      <td>1</td>\n      <td>0</td>\n    </tr>\n  </tbody>\n</table>\n</div>"
     },
     "execution_count": 5,
     "metadata": {},
     "output_type": "execute_result"
    }
   ],
   "source": [
    "#remove unnecessary columns for a linear regression and statistical tests\n",
    "df_h1a_h1b = df_h1a_h1b.drop(columns=['tweet_id','text','created_at','campaign_week','process_text_check','handle','party','state_code','name','total_votes_casted','check_city_filtered','PreProcessedText_WithoutCity','Words','WordsCleaned','WordsLemmatized','Campaign Event','Social Protection','General Discussion','Abortion','Homeland Security','Candidate Denigration','Vote Instigation','Campaign Contribution','Economy Policies','result_votes','result_pctg'], axis=1)\n",
    "df_h1a_h1b.head(10)"
   ],
   "metadata": {
    "collapsed": false
   }
  },
  {
   "cell_type": "code",
   "execution_count": 6,
   "outputs": [
    {
     "data": {
      "text/plain": "                     state_name  local  national  winner_margin_for_runners_up\n0                       Alabama    459       457                      0.358326\n1                        Alaska    572       400                      0.071460\n2                       Arizona    400       924                      0.048874\n3                      Arkansas    390      1113                      0.348388\n4                    California    337      1244                      0.182714\n5                      Colorado    541       924                      0.146179\n6                   Connecticut    113       297                      0.157094\n7                       Florida    718      1610                      0.164130\n8                       Georgia    662       854                      0.028061\n9                        Hawaii      1         4                      0.521716\n10                        Idaho    264       984                      0.319401\n11                     Illinois    437       572                      0.153232\n12                      Indiana    509      1508                      0.207461\n13                         Iowa    732      1207                      0.128551\n14                       Kansas    247       563                      0.229624\n15                     Kentucky    667      1446                      0.235819\n16                    Louisiana    632      1180                      0.442702\n17                     Maryland    114       694                      0.316932\n18                     Missouri    435       620                      0.132554\n19                       Nevada    971      1223                      0.007766\n20                New Hampshire    758      2891                      0.090608\n21                     New York    134       485                      0.132112\n22               North Carolina    810      3451                      0.032257\n23                 North Dakota    150       876                      0.311115\n24                         Ohio    842      1366                      0.061119\n25                     Oklahoma    634      3430                      0.322140\n26  Oklahoma (Special Election)    369       511                      0.265173\n27                       Oregon     24        71                      0.137097\n28                 Pennsylvania    998      3014                      0.033876\n29               South Carolina     46       782                      0.240089\n30                 South Dakota    252      1159                      0.458107\n31                         Utah    942      2149                      0.138346\n32                      Vermont     87       317                      0.403537\n33                   Washington    494      1013                      0.140286\n34                    Wisconsin    800      1910                      0.010073",
      "text/html": "<div>\n<style scoped>\n    .dataframe tbody tr th:only-of-type {\n        vertical-align: middle;\n    }\n\n    .dataframe tbody tr th {\n        vertical-align: top;\n    }\n\n    .dataframe thead th {\n        text-align: right;\n    }\n</style>\n<table border=\"1\" class=\"dataframe\">\n  <thead>\n    <tr style=\"text-align: right;\">\n      <th></th>\n      <th>state_name</th>\n      <th>local</th>\n      <th>national</th>\n      <th>winner_margin_for_runners_up</th>\n    </tr>\n  </thead>\n  <tbody>\n    <tr>\n      <th>0</th>\n      <td>Alabama</td>\n      <td>459</td>\n      <td>457</td>\n      <td>0.358326</td>\n    </tr>\n    <tr>\n      <th>1</th>\n      <td>Alaska</td>\n      <td>572</td>\n      <td>400</td>\n      <td>0.071460</td>\n    </tr>\n    <tr>\n      <th>2</th>\n      <td>Arizona</td>\n      <td>400</td>\n      <td>924</td>\n      <td>0.048874</td>\n    </tr>\n    <tr>\n      <th>3</th>\n      <td>Arkansas</td>\n      <td>390</td>\n      <td>1113</td>\n      <td>0.348388</td>\n    </tr>\n    <tr>\n      <th>4</th>\n      <td>California</td>\n      <td>337</td>\n      <td>1244</td>\n      <td>0.182714</td>\n    </tr>\n    <tr>\n      <th>5</th>\n      <td>Colorado</td>\n      <td>541</td>\n      <td>924</td>\n      <td>0.146179</td>\n    </tr>\n    <tr>\n      <th>6</th>\n      <td>Connecticut</td>\n      <td>113</td>\n      <td>297</td>\n      <td>0.157094</td>\n    </tr>\n    <tr>\n      <th>7</th>\n      <td>Florida</td>\n      <td>718</td>\n      <td>1610</td>\n      <td>0.164130</td>\n    </tr>\n    <tr>\n      <th>8</th>\n      <td>Georgia</td>\n      <td>662</td>\n      <td>854</td>\n      <td>0.028061</td>\n    </tr>\n    <tr>\n      <th>9</th>\n      <td>Hawaii</td>\n      <td>1</td>\n      <td>4</td>\n      <td>0.521716</td>\n    </tr>\n    <tr>\n      <th>10</th>\n      <td>Idaho</td>\n      <td>264</td>\n      <td>984</td>\n      <td>0.319401</td>\n    </tr>\n    <tr>\n      <th>11</th>\n      <td>Illinois</td>\n      <td>437</td>\n      <td>572</td>\n      <td>0.153232</td>\n    </tr>\n    <tr>\n      <th>12</th>\n      <td>Indiana</td>\n      <td>509</td>\n      <td>1508</td>\n      <td>0.207461</td>\n    </tr>\n    <tr>\n      <th>13</th>\n      <td>Iowa</td>\n      <td>732</td>\n      <td>1207</td>\n      <td>0.128551</td>\n    </tr>\n    <tr>\n      <th>14</th>\n      <td>Kansas</td>\n      <td>247</td>\n      <td>563</td>\n      <td>0.229624</td>\n    </tr>\n    <tr>\n      <th>15</th>\n      <td>Kentucky</td>\n      <td>667</td>\n      <td>1446</td>\n      <td>0.235819</td>\n    </tr>\n    <tr>\n      <th>16</th>\n      <td>Louisiana</td>\n      <td>632</td>\n      <td>1180</td>\n      <td>0.442702</td>\n    </tr>\n    <tr>\n      <th>17</th>\n      <td>Maryland</td>\n      <td>114</td>\n      <td>694</td>\n      <td>0.316932</td>\n    </tr>\n    <tr>\n      <th>18</th>\n      <td>Missouri</td>\n      <td>435</td>\n      <td>620</td>\n      <td>0.132554</td>\n    </tr>\n    <tr>\n      <th>19</th>\n      <td>Nevada</td>\n      <td>971</td>\n      <td>1223</td>\n      <td>0.007766</td>\n    </tr>\n    <tr>\n      <th>20</th>\n      <td>New Hampshire</td>\n      <td>758</td>\n      <td>2891</td>\n      <td>0.090608</td>\n    </tr>\n    <tr>\n      <th>21</th>\n      <td>New York</td>\n      <td>134</td>\n      <td>485</td>\n      <td>0.132112</td>\n    </tr>\n    <tr>\n      <th>22</th>\n      <td>North Carolina</td>\n      <td>810</td>\n      <td>3451</td>\n      <td>0.032257</td>\n    </tr>\n    <tr>\n      <th>23</th>\n      <td>North Dakota</td>\n      <td>150</td>\n      <td>876</td>\n      <td>0.311115</td>\n    </tr>\n    <tr>\n      <th>24</th>\n      <td>Ohio</td>\n      <td>842</td>\n      <td>1366</td>\n      <td>0.061119</td>\n    </tr>\n    <tr>\n      <th>25</th>\n      <td>Oklahoma</td>\n      <td>634</td>\n      <td>3430</td>\n      <td>0.322140</td>\n    </tr>\n    <tr>\n      <th>26</th>\n      <td>Oklahoma (Special Election)</td>\n      <td>369</td>\n      <td>511</td>\n      <td>0.265173</td>\n    </tr>\n    <tr>\n      <th>27</th>\n      <td>Oregon</td>\n      <td>24</td>\n      <td>71</td>\n      <td>0.137097</td>\n    </tr>\n    <tr>\n      <th>28</th>\n      <td>Pennsylvania</td>\n      <td>998</td>\n      <td>3014</td>\n      <td>0.033876</td>\n    </tr>\n    <tr>\n      <th>29</th>\n      <td>South Carolina</td>\n      <td>46</td>\n      <td>782</td>\n      <td>0.240089</td>\n    </tr>\n    <tr>\n      <th>30</th>\n      <td>South Dakota</td>\n      <td>252</td>\n      <td>1159</td>\n      <td>0.458107</td>\n    </tr>\n    <tr>\n      <th>31</th>\n      <td>Utah</td>\n      <td>942</td>\n      <td>2149</td>\n      <td>0.138346</td>\n    </tr>\n    <tr>\n      <th>32</th>\n      <td>Vermont</td>\n      <td>87</td>\n      <td>317</td>\n      <td>0.403537</td>\n    </tr>\n    <tr>\n      <th>33</th>\n      <td>Washington</td>\n      <td>494</td>\n      <td>1013</td>\n      <td>0.140286</td>\n    </tr>\n    <tr>\n      <th>34</th>\n      <td>Wisconsin</td>\n      <td>800</td>\n      <td>1910</td>\n      <td>0.010073</td>\n    </tr>\n  </tbody>\n</table>\n</div>"
     },
     "execution_count": 6,
     "metadata": {},
     "output_type": "execute_result"
    }
   ],
   "source": [
    "#aggregate by state_name (race)\n",
    "#create a dataframe with the values for the algorithms\n",
    "#transform position into a categorical variable\n",
    "\n",
    "agg_dict = {\n",
    "    #aggregate the numerical values\n",
    "    'local':'sum',\n",
    "    'national':'sum',\n",
    "    #these values are equal for all the tweets from the same race\n",
    "    'winner_margin_for_runners_up':'mean',\n",
    "    #now the categorical values\n",
    "}\n",
    "\n",
    "\n",
    "#create the new dataframe\n",
    "df_h1a_h1b = df_h1a_h1b.groupby(['state_name']).agg(agg_dict).reset_index()\n",
    "df_h1a_h1b.head(50)\n"
   ],
   "metadata": {
    "collapsed": false
   }
  },
  {
   "cell_type": "code",
   "execution_count": 7,
   "outputs": [
    {
     "data": {
      "text/plain": "                     state_name  local  national  winner_margin_for_runners_up\n0                       Alabama    459       457                      0.358326\n1                        Alaska    572       400                      0.071460\n2                       Arizona    400       924                      0.048874\n3                      Arkansas    390      1113                      0.348388\n4                    California    337      1244                      0.182714\n5                      Colorado    541       924                      0.146179\n6                   Connecticut    113       297                      0.157094\n7                       Florida    718      1610                      0.164130\n8                       Georgia    662       854                      0.028061\n9                        Hawaii      1         4                      0.521716\n10                        Idaho    264       984                      0.319401\n11                     Illinois    437       572                      0.153232\n12                      Indiana    509      1508                      0.207461\n13                         Iowa    732      1207                      0.128551\n14                       Kansas    247       563                      0.229624\n15                     Kentucky    667      1446                      0.235819\n16                    Louisiana    632      1180                      0.442702\n17                     Maryland    114       694                      0.316932\n18                     Missouri    435       620                      0.132554\n19                       Nevada    971      1223                      0.007766\n20                New Hampshire    758      2891                      0.090608\n21                     New York    134       485                      0.132112\n22               North Carolina    810      3451                      0.032257\n23                 North Dakota    150       876                      0.311115\n24                         Ohio    842      1366                      0.061119\n25                     Oklahoma    634      3430                      0.322140\n26  Oklahoma (Special Election)    369       511                      0.265173\n27                       Oregon     24        71                      0.137097\n28                 Pennsylvania    998      3014                      0.033876\n29               South Carolina     46       782                      0.240089\n30                 South Dakota    252      1159                      0.458107\n31                         Utah    942      2149                      0.138346\n32                      Vermont     87       317                      0.403537\n33                   Washington    494      1013                      0.140286\n34                    Wisconsin    800      1910                      0.010073",
      "text/html": "<div>\n<style scoped>\n    .dataframe tbody tr th:only-of-type {\n        vertical-align: middle;\n    }\n\n    .dataframe tbody tr th {\n        vertical-align: top;\n    }\n\n    .dataframe thead th {\n        text-align: right;\n    }\n</style>\n<table border=\"1\" class=\"dataframe\">\n  <thead>\n    <tr style=\"text-align: right;\">\n      <th></th>\n      <th>state_name</th>\n      <th>local</th>\n      <th>national</th>\n      <th>winner_margin_for_runners_up</th>\n    </tr>\n  </thead>\n  <tbody>\n    <tr>\n      <th>0</th>\n      <td>Alabama</td>\n      <td>459</td>\n      <td>457</td>\n      <td>0.358326</td>\n    </tr>\n    <tr>\n      <th>1</th>\n      <td>Alaska</td>\n      <td>572</td>\n      <td>400</td>\n      <td>0.071460</td>\n    </tr>\n    <tr>\n      <th>2</th>\n      <td>Arizona</td>\n      <td>400</td>\n      <td>924</td>\n      <td>0.048874</td>\n    </tr>\n    <tr>\n      <th>3</th>\n      <td>Arkansas</td>\n      <td>390</td>\n      <td>1113</td>\n      <td>0.348388</td>\n    </tr>\n    <tr>\n      <th>4</th>\n      <td>California</td>\n      <td>337</td>\n      <td>1244</td>\n      <td>0.182714</td>\n    </tr>\n    <tr>\n      <th>5</th>\n      <td>Colorado</td>\n      <td>541</td>\n      <td>924</td>\n      <td>0.146179</td>\n    </tr>\n    <tr>\n      <th>6</th>\n      <td>Connecticut</td>\n      <td>113</td>\n      <td>297</td>\n      <td>0.157094</td>\n    </tr>\n    <tr>\n      <th>7</th>\n      <td>Florida</td>\n      <td>718</td>\n      <td>1610</td>\n      <td>0.164130</td>\n    </tr>\n    <tr>\n      <th>8</th>\n      <td>Georgia</td>\n      <td>662</td>\n      <td>854</td>\n      <td>0.028061</td>\n    </tr>\n    <tr>\n      <th>9</th>\n      <td>Hawaii</td>\n      <td>1</td>\n      <td>4</td>\n      <td>0.521716</td>\n    </tr>\n    <tr>\n      <th>10</th>\n      <td>Idaho</td>\n      <td>264</td>\n      <td>984</td>\n      <td>0.319401</td>\n    </tr>\n    <tr>\n      <th>11</th>\n      <td>Illinois</td>\n      <td>437</td>\n      <td>572</td>\n      <td>0.153232</td>\n    </tr>\n    <tr>\n      <th>12</th>\n      <td>Indiana</td>\n      <td>509</td>\n      <td>1508</td>\n      <td>0.207461</td>\n    </tr>\n    <tr>\n      <th>13</th>\n      <td>Iowa</td>\n      <td>732</td>\n      <td>1207</td>\n      <td>0.128551</td>\n    </tr>\n    <tr>\n      <th>14</th>\n      <td>Kansas</td>\n      <td>247</td>\n      <td>563</td>\n      <td>0.229624</td>\n    </tr>\n    <tr>\n      <th>15</th>\n      <td>Kentucky</td>\n      <td>667</td>\n      <td>1446</td>\n      <td>0.235819</td>\n    </tr>\n    <tr>\n      <th>16</th>\n      <td>Louisiana</td>\n      <td>632</td>\n      <td>1180</td>\n      <td>0.442702</td>\n    </tr>\n    <tr>\n      <th>17</th>\n      <td>Maryland</td>\n      <td>114</td>\n      <td>694</td>\n      <td>0.316932</td>\n    </tr>\n    <tr>\n      <th>18</th>\n      <td>Missouri</td>\n      <td>435</td>\n      <td>620</td>\n      <td>0.132554</td>\n    </tr>\n    <tr>\n      <th>19</th>\n      <td>Nevada</td>\n      <td>971</td>\n      <td>1223</td>\n      <td>0.007766</td>\n    </tr>\n    <tr>\n      <th>20</th>\n      <td>New Hampshire</td>\n      <td>758</td>\n      <td>2891</td>\n      <td>0.090608</td>\n    </tr>\n    <tr>\n      <th>21</th>\n      <td>New York</td>\n      <td>134</td>\n      <td>485</td>\n      <td>0.132112</td>\n    </tr>\n    <tr>\n      <th>22</th>\n      <td>North Carolina</td>\n      <td>810</td>\n      <td>3451</td>\n      <td>0.032257</td>\n    </tr>\n    <tr>\n      <th>23</th>\n      <td>North Dakota</td>\n      <td>150</td>\n      <td>876</td>\n      <td>0.311115</td>\n    </tr>\n    <tr>\n      <th>24</th>\n      <td>Ohio</td>\n      <td>842</td>\n      <td>1366</td>\n      <td>0.061119</td>\n    </tr>\n    <tr>\n      <th>25</th>\n      <td>Oklahoma</td>\n      <td>634</td>\n      <td>3430</td>\n      <td>0.322140</td>\n    </tr>\n    <tr>\n      <th>26</th>\n      <td>Oklahoma (Special Election)</td>\n      <td>369</td>\n      <td>511</td>\n      <td>0.265173</td>\n    </tr>\n    <tr>\n      <th>27</th>\n      <td>Oregon</td>\n      <td>24</td>\n      <td>71</td>\n      <td>0.137097</td>\n    </tr>\n    <tr>\n      <th>28</th>\n      <td>Pennsylvania</td>\n      <td>998</td>\n      <td>3014</td>\n      <td>0.033876</td>\n    </tr>\n    <tr>\n      <th>29</th>\n      <td>South Carolina</td>\n      <td>46</td>\n      <td>782</td>\n      <td>0.240089</td>\n    </tr>\n    <tr>\n      <th>30</th>\n      <td>South Dakota</td>\n      <td>252</td>\n      <td>1159</td>\n      <td>0.458107</td>\n    </tr>\n    <tr>\n      <th>31</th>\n      <td>Utah</td>\n      <td>942</td>\n      <td>2149</td>\n      <td>0.138346</td>\n    </tr>\n    <tr>\n      <th>32</th>\n      <td>Vermont</td>\n      <td>87</td>\n      <td>317</td>\n      <td>0.403537</td>\n    </tr>\n    <tr>\n      <th>33</th>\n      <td>Washington</td>\n      <td>494</td>\n      <td>1013</td>\n      <td>0.140286</td>\n    </tr>\n    <tr>\n      <th>34</th>\n      <td>Wisconsin</td>\n      <td>800</td>\n      <td>1910</td>\n      <td>0.010073</td>\n    </tr>\n  </tbody>\n</table>\n</div>"
     },
     "execution_count": 7,
     "metadata": {},
     "output_type": "execute_result"
    }
   ],
   "source": [
    "df_h1a_h1b.head(50)"
   ],
   "metadata": {
    "collapsed": false
   }
  },
  {
   "cell_type": "code",
   "execution_count": 8,
   "outputs": [
    {
     "data": {
      "text/plain": "   winner_margin_for_runners_up  national_proportion  local_proportion\n0                      0.358326             0.498908          0.501092\n1                      0.071460             0.411523          0.588477\n2                      0.048874             0.697885          0.302115\n3                      0.348388             0.740519          0.259481\n4                      0.182714             0.786844          0.213156\n5                      0.146179             0.630717          0.369283\n6                      0.157094             0.724390          0.275610\n7                      0.164130             0.691581          0.308419\n8                      0.028061             0.563325          0.436675\n9                      0.521716             0.800000          0.200000",
      "text/html": "<div>\n<style scoped>\n    .dataframe tbody tr th:only-of-type {\n        vertical-align: middle;\n    }\n\n    .dataframe tbody tr th {\n        vertical-align: top;\n    }\n\n    .dataframe thead th {\n        text-align: right;\n    }\n</style>\n<table border=\"1\" class=\"dataframe\">\n  <thead>\n    <tr style=\"text-align: right;\">\n      <th></th>\n      <th>winner_margin_for_runners_up</th>\n      <th>national_proportion</th>\n      <th>local_proportion</th>\n    </tr>\n  </thead>\n  <tbody>\n    <tr>\n      <th>0</th>\n      <td>0.358326</td>\n      <td>0.498908</td>\n      <td>0.501092</td>\n    </tr>\n    <tr>\n      <th>1</th>\n      <td>0.071460</td>\n      <td>0.411523</td>\n      <td>0.588477</td>\n    </tr>\n    <tr>\n      <th>2</th>\n      <td>0.048874</td>\n      <td>0.697885</td>\n      <td>0.302115</td>\n    </tr>\n    <tr>\n      <th>3</th>\n      <td>0.348388</td>\n      <td>0.740519</td>\n      <td>0.259481</td>\n    </tr>\n    <tr>\n      <th>4</th>\n      <td>0.182714</td>\n      <td>0.786844</td>\n      <td>0.213156</td>\n    </tr>\n    <tr>\n      <th>5</th>\n      <td>0.146179</td>\n      <td>0.630717</td>\n      <td>0.369283</td>\n    </tr>\n    <tr>\n      <th>6</th>\n      <td>0.157094</td>\n      <td>0.724390</td>\n      <td>0.275610</td>\n    </tr>\n    <tr>\n      <th>7</th>\n      <td>0.164130</td>\n      <td>0.691581</td>\n      <td>0.308419</td>\n    </tr>\n    <tr>\n      <th>8</th>\n      <td>0.028061</td>\n      <td>0.563325</td>\n      <td>0.436675</td>\n    </tr>\n    <tr>\n      <th>9</th>\n      <td>0.521716</td>\n      <td>0.800000</td>\n      <td>0.200000</td>\n    </tr>\n  </tbody>\n</table>\n</div>"
     },
     "execution_count": 8,
     "metadata": {},
     "output_type": "execute_result"
    }
   ],
   "source": [
    "#check for the proportion of tweets and normalize values for linear regression\n",
    "df_h1a_h1b['national_proportion'] = df_h1a_h1b['national'] / (df_h1a_h1b['local'] + df_h1a_h1b['national'])\n",
    "df_h1a_h1b['local_proportion'] = df_h1a_h1b['local'] / (df_h1a_h1b['national'] + df_h1a_h1b['local'])\n",
    "\n",
    "#drop local and national columns\n",
    "race = df_h1a_h1b.drop(columns=['local','national','state_name'])\n",
    "race.head(10)"
   ],
   "metadata": {
    "collapsed": false
   }
  },
  {
   "cell_type": "code",
   "execution_count": 9,
   "outputs": [
    {
     "name": "stdout",
     "output_type": "stream",
     "text": [
      "<class 'pandas.core.frame.DataFrame'>\n",
      "RangeIndex: 35 entries, 0 to 34\n",
      "Data columns (total 3 columns):\n",
      " #   Column                          Non-Null Count  Dtype  \n",
      "---  ------                          --------------  -----  \n",
      " 0   winner_margin_for_runners_up    35 non-null     float64\n",
      " 1   normalized_national_proportion  35 non-null     float64\n",
      " 2   normalized_local_proportion     35 non-null     float64\n",
      "dtypes: float64(3)\n",
      "memory usage: 968.0 bytes\n"
     ]
    }
   ],
   "source": [
    "# Normalize the variables\n",
    "race['normalized_national_proportion'] = (race['national_proportion'] - race['national_proportion'].mean()) / race['national_proportion'].std()\n",
    "race['normalized_local_proportion'] = (race['local_proportion'] - race['local_proportion'].mean()) / race['local_proportion'].std()\n",
    "\n",
    "\n",
    "#drop non-normalized values\n",
    "race = race.drop(columns=['local_proportion','national_proportion'],axis=1)\n",
    "race.info()"
   ],
   "metadata": {
    "collapsed": false
   }
  },
  {
   "cell_type": "code",
   "execution_count": 10,
   "outputs": [
    {
     "name": "stdout",
     "output_type": "stream",
     "text": [
      "Race with Normalized Variables - National Proportion:\n",
      "                                 OLS Regression Results                                 \n",
      "========================================================================================\n",
      "Dep. Variable:     winner_margin_for_runners_up   R-squared:                       0.120\n",
      "Model:                                      OLS   Adj. R-squared:                  0.093\n",
      "Method:                           Least Squares   F-statistic:                     4.499\n",
      "Date:                          Tue, 09 May 2023   Prob (F-statistic):             0.0415\n",
      "Time:                                  21:44:49   Log-Likelihood:                 22.498\n",
      "No. Observations:                            35   AIC:                            -41.00\n",
      "Df Residuals:                                33   BIC:                            -37.89\n",
      "Df Model:                                     1                                         \n",
      "Covariance Type:                      nonrobust                                         \n",
      "==================================================================================================\n",
      "                                     coef    std err          t      P>|t|      [0.025      0.975]\n",
      "--------------------------------------------------------------------------------------------------\n",
      "const                              0.1993      0.022      9.000      0.000       0.154       0.244\n",
      "normalized_national_proportion     0.0477      0.022      2.121      0.042       0.002       0.093\n",
      "==============================================================================\n",
      "Omnibus:                        2.268   Durbin-Watson:                   1.744\n",
      "Prob(Omnibus):                  0.322   Jarque-Bera (JB):                2.009\n",
      "Skew:                           0.564   Prob(JB):                        0.366\n",
      "Kurtosis:                       2.677   Cond. No.                         1.01\n",
      "==============================================================================\n",
      "\n",
      "Notes:\n",
      "[1] Standard Errors assume that the covariance matrix of the errors is correctly specified.\n",
      "Race with Normalized Variables - Local Proportion:\n",
      "                                 OLS Regression Results                                 \n",
      "========================================================================================\n",
      "Dep. Variable:     winner_margin_for_runners_up   R-squared:                       0.120\n",
      "Model:                                      OLS   Adj. R-squared:                  0.093\n",
      "Method:                           Least Squares   F-statistic:                     4.499\n",
      "Date:                          Tue, 09 May 2023   Prob (F-statistic):             0.0415\n",
      "Time:                                  21:44:49   Log-Likelihood:                 22.498\n",
      "No. Observations:                            35   AIC:                            -41.00\n",
      "Df Residuals:                                33   BIC:                            -37.89\n",
      "Df Model:                                     1                                         \n",
      "Covariance Type:                      nonrobust                                         \n",
      "===============================================================================================\n",
      "                                  coef    std err          t      P>|t|      [0.025      0.975]\n",
      "-----------------------------------------------------------------------------------------------\n",
      "const                           0.1993      0.022      9.000      0.000       0.154       0.244\n",
      "normalized_local_proportion    -0.0477      0.022     -2.121      0.042      -0.093      -0.002\n",
      "==============================================================================\n",
      "Omnibus:                        2.268   Durbin-Watson:                   1.744\n",
      "Prob(Omnibus):                  0.322   Jarque-Bera (JB):                2.009\n",
      "Skew:                           0.564   Prob(JB):                        0.366\n",
      "Kurtosis:                       2.677   Cond. No.                         1.01\n",
      "==============================================================================\n",
      "\n",
      "Notes:\n",
      "[1] Standard Errors assume that the covariance matrix of the errors is correctly specified.\n"
     ]
    },
    {
     "name": "stderr",
     "output_type": "stream",
     "text": [
      "/Users/franciscorfafonso/opt/anaconda3/lib/python3.9/site-packages/statsmodels/tsa/tsatools.py:142: FutureWarning: In a future version of pandas all arguments of concat except for the argument 'objs' will be keyword-only\n",
      "  x = pd.concat(x[::order], 1)\n",
      "/Users/franciscorfafonso/opt/anaconda3/lib/python3.9/site-packages/statsmodels/tsa/tsatools.py:142: FutureWarning: In a future version of pandas all arguments of concat except for the argument 'objs' will be keyword-only\n",
      "  x = pd.concat(x[::order], 1)\n"
     ]
    }
   ],
   "source": [
    "# Define a function to perform linear regression and print the results\n",
    "def perform_linear_regression(data, dependent_var, independent_vars):\n",
    "    Y = data[dependent_var]\n",
    "    X = data[independent_vars]\n",
    "    X = sm.add_constant(X)\n",
    "    model = sm.OLS(Y, X).fit()\n",
    "    print(model.summary())\n",
    "\n",
    "\n",
    "# Perform linear regression with only winners using normalized variables for national_proportion\n",
    "print(\"Race with Normalized Variables - National Proportion:\")\n",
    "perform_linear_regression(race, 'winner_margin_for_runners_up', ['normalized_national_proportion'])\n",
    "\n",
    "# Perform linear regression with only winners using normalized variables for local_proportion\n",
    "print(\"Race with Normalized Variables - Local Proportion:\")\n",
    "perform_linear_regression(race, 'winner_margin_for_runners_up', ['normalized_local_proportion'])\n"
   ],
   "metadata": {
    "collapsed": false
   }
  },
  {
   "cell_type": "markdown",
   "source": [
    "\n",
    "\n",
    "\n",
    "## Results\n",
    "\n",
    "\n"
   ],
   "metadata": {
    "collapsed": false
   }
  },
  {
   "cell_type": "raw",
   "source": [
    "With these results, we can see a positive relationship between winners_margin and national_issues, which means the that while the races become more loose, the focus on national issues increase. When considering all the people in each race, we have a significance value of 0.042, which proves our null hypothesis as being statistically significant.\n",
    "\n",
    "\n",
    "----------------------------------------------\n",
    "          | National Proportion | Local Proportion\n",
    "----------|--------------------|------------------\n",
    "Intercept |       -0.5018       |      0.5018\n",
    "          |    (0.286)***       |    (0.286)***\n",
    "          |   [-1.084, 0.080]   |   [-0.080, 1.084]\n",
    "----------|--------------------|------------------\n",
    "Margin    |        2.5172       |     -2.5172\n",
    "          |    (1.187)**        |    (1.187)**\n",
    "          |   [0.103, 4.932]    |   [-4.932, -0.103]\n",
    "----------------------------------------------\n",
    "R-squared |        0.120        |      0.120\n",
    "Adj. R-squared|     0.093        |      0.093\n",
    "----------------------------------------------\n",
    "Significance codes: 0 '***' 0.001 '**' 0.01 '*' 0.05 '.' 0.1 ' ' 1\n"
   ],
   "metadata": {
    "collapsed": false
   }
  },
  {
   "cell_type": "code",
   "execution_count": 11,
   "outputs": [
    {
     "name": "stdout",
     "output_type": "stream",
     "text": [
      "                                 OLS Regression Results                                \n",
      "=======================================================================================\n",
      "Dep. Variable:     normalized_local_proportion   R-squared:                       0.120\n",
      "Model:                                     OLS   Adj. R-squared:                  0.093\n",
      "Method:                          Least Squares   F-statistic:                     4.499\n",
      "Date:                         Tue, 09 May 2023   Prob (F-statistic):             0.0415\n",
      "Time:                                 21:44:51   Log-Likelihood:                -46.919\n",
      "No. Observations:                           35   AIC:                             97.84\n",
      "Df Residuals:                               33   BIC:                             100.9\n",
      "Df Model:                                    1                                         \n",
      "Covariance Type:                     nonrobust                                         \n",
      "================================================================================================\n",
      "                                   coef    std err          t      P>|t|      [0.025      0.975]\n",
      "------------------------------------------------------------------------------------------------\n",
      "const                            0.5018      0.286      1.754      0.089      -0.080       1.084\n",
      "winner_margin_for_runners_up    -2.5172      1.187     -2.121      0.042      -4.932      -0.103\n",
      "==============================================================================\n",
      "Omnibus:                        2.232   Durbin-Watson:                   1.533\n",
      "Prob(Omnibus):                  0.328   Jarque-Bera (JB):                1.375\n",
      "Skew:                           0.473   Prob(JB):                        0.503\n",
      "Kurtosis:                       3.216   Cond. No.                         7.67\n",
      "==============================================================================\n",
      "\n",
      "Notes:\n",
      "[1] Standard Errors assume that the covariance matrix of the errors is correctly specified.\n",
      "                                  OLS Regression Results                                  \n",
      "==========================================================================================\n",
      "Dep. Variable:     normalized_national_proportion   R-squared:                       0.120\n",
      "Model:                                        OLS   Adj. R-squared:                  0.093\n",
      "Method:                             Least Squares   F-statistic:                     4.499\n",
      "Date:                            Tue, 09 May 2023   Prob (F-statistic):             0.0415\n",
      "Time:                                    21:44:51   Log-Likelihood:                -46.919\n",
      "No. Observations:                              35   AIC:                             97.84\n",
      "Df Residuals:                                  33   BIC:                             100.9\n",
      "Df Model:                                       1                                         \n",
      "Covariance Type:                        nonrobust                                         \n",
      "================================================================================================\n",
      "                                   coef    std err          t      P>|t|      [0.025      0.975]\n",
      "------------------------------------------------------------------------------------------------\n",
      "const                           -0.5018      0.286     -1.754      0.089      -1.084       0.080\n",
      "winner_margin_for_runners_up     2.5172      1.187      2.121      0.042       0.103       4.932\n",
      "==============================================================================\n",
      "Omnibus:                        2.232   Durbin-Watson:                   1.533\n",
      "Prob(Omnibus):                  0.328   Jarque-Bera (JB):                1.375\n",
      "Skew:                          -0.473   Prob(JB):                        0.503\n",
      "Kurtosis:                       3.216   Cond. No.                         7.67\n",
      "==============================================================================\n",
      "\n",
      "Notes:\n",
      "[1] Standard Errors assume that the covariance matrix of the errors is correctly specified.\n"
     ]
    }
   ],
   "source": [
    "# Add a constant to the DataFrame for the regression intercept\n",
    "race['const'] = 1\n",
    "\n",
    "# Define the regression formula for local tweets\n",
    "local_model = sm.OLS(race['normalized_local_proportion'], race[['const', 'winner_margin_for_runners_up']])\n",
    "\n",
    "# Fit the model\n",
    "local_results = local_model.fit()\n",
    "\n",
    "# Print out the results\n",
    "print(local_results.summary())\n",
    "\n",
    "# Define the regression formula for national tweets\n",
    "national_model = sm.OLS(race['normalized_national_proportion'], race[['const', 'winner_margin_for_runners_up']])\n",
    "\n",
    "# Fit the model\n",
    "national_results = national_model.fit()\n",
    "\n",
    "# Print out the results\n",
    "print(national_results.summary())"
   ],
   "metadata": {
    "collapsed": false
   }
  },
  {
   "cell_type": "code",
   "execution_count": 14,
   "outputs": [
    {
     "data": {
      "text/plain": "<IPython.core.display.HTML object>",
      "text/html": "<table style=\"text-align:center\"><tr><td colspan=\"3\" style=\"border-bottom: 1px solid black\"></td></tr><tr><td style=\"text-align:left\"></td><tr><td></td><td colspan=\"1\">National Tweets</td><td colspan=\"1\">Local Tweets</td></tr><tr><td style=\"text-align:left\"></td><td>(1)</td><td>(2)</td></tr><tr><td colspan=\"3\" style=\"border-bottom: 1px solid black\"></td></tr><tr><td style=\"text-align:left\">Intercept</td><td>-0.502<sup>*</sup></td><td>0.502<sup>*</sup></td></tr><tr><td style=\"text-align:left\"></td><td>(0.286)</td><td>(0.286)</td></tr><tr><td style=\"text-align:left\">winner_margin_for_runners_up</td><td>2.517<sup>**</sup></td><td>-2.517<sup>**</sup></td></tr><tr><td style=\"text-align:left\"></td><td>(1.187)</td><td>(1.187)</td></tr><td colspan=\"3\" style=\"border-bottom: 1px solid black\"></td></tr><tr><td style=\"text-align: left\">Observations</td><td>35</td><td>35</td></tr><tr><td style=\"text-align: left\">R<sup>2</sup></td><td>0.120</td><td>0.120</td></tr><tr><td style=\"text-align: left\">Adjusted R<sup>2</sup></td><td>0.093</td><td>0.093</td></tr><tr><td style=\"text-align: left\">Residual Std. Error</td><td>0.952 (df=33)</td><td>0.952 (df=33)</td></tr><tr><td style=\"text-align: left\">F Statistic</td><td>4.499<sup>**</sup> (df=1; 33)</td><td>4.499<sup>**</sup> (df=1; 33)</td></tr><tr><td colspan=\"3\" style=\"border-bottom: 1px solid black\"></td></tr><tr><td style=\"text-align: left\">Note:</td>\n <td colspan=\"2\" style=\"text-align: right\">\n  <sup>*</sup>p&lt;0.1;\n  <sup>**</sup>p&lt;0.05;\n  <sup>***</sup>p&lt;0.01\n </td></tr></table>"
     },
     "execution_count": 14,
     "metadata": {},
     "output_type": "execute_result"
    }
   ],
   "source": [
    "from stargazer.stargazer import Stargazer\n",
    "from IPython.core.display import HTML\n",
    "\n",
    "stargazer = Stargazer([national_results, local_results])\n",
    "# Rename the models\n",
    "stargazer.rename_covariates({'const': 'Intercept'})\n",
    "\n",
    "# Change model names\n",
    "stargazer.custom_columns(['National Tweets', 'Local Tweets'], [1, 1])\n",
    "HTML(stargazer.render_html())"
   ],
   "metadata": {
    "collapsed": false
   }
  },
  {
   "cell_type": "code",
   "execution_count": 15,
   "outputs": [],
   "source": [
    "with open('regression_table.html', 'w') as f:\n",
    "    f.write(stargazer.render_html())"
   ],
   "metadata": {
    "collapsed": false
   }
  },
  {
   "cell_type": "code",
   "execution_count": null,
   "outputs": [],
   "source": [],
   "metadata": {
    "collapsed": false
   }
  }
 ],
 "metadata": {
  "kernelspec": {
   "display_name": "Python 3",
   "language": "python",
   "name": "python3"
  },
  "language_info": {
   "codemirror_mode": {
    "name": "ipython",
    "version": 2
   },
   "file_extension": ".py",
   "mimetype": "text/x-python",
   "name": "python",
   "nbconvert_exporter": "python",
   "pygments_lexer": "ipython2",
   "version": "2.7.6"
  }
 },
 "nbformat": 4,
 "nbformat_minor": 0
}
